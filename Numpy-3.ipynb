{
 "cells": [
  {
   "cell_type": "code",
   "execution_count": 303,
   "id": "4ab0db9d",
   "metadata": {},
   "outputs": [],
   "source": [
    "import numpy as np"
   ]
  },
  {
   "cell_type": "markdown",
   "id": "1ef01212",
   "metadata": {},
   "source": [
    "# Concatenate "
   ]
  },
  {
   "cell_type": "markdown",
   "id": "6a31b49e",
   "metadata": {},
   "source": [
    "# Example - 1 (1D Array) "
   ]
  },
  {
   "cell_type": "code",
   "execution_count": 304,
   "id": "c1fc710b",
   "metadata": {},
   "outputs": [
    {
     "name": "stdout",
     "output_type": "stream",
     "text": [
      "[1 2 3 4]\n",
      "[1 2 3 4]\n",
      "(4,)\n",
      "(4,)\n",
      "1\n",
      "1\n"
     ]
    }
   ],
   "source": [
    "c1 = np.arange(1,5)\n",
    "c2 = np.arange(1,5)\n",
    "print(c1)\n",
    "print(c2)\n",
    "print(c1.shape)\n",
    "print(c2.shape)\n",
    "print(c1.ndim)\n",
    "print(c2.ndim)"
   ]
  },
  {
   "cell_type": "code",
   "execution_count": 305,
   "id": "a1cc0a0d",
   "metadata": {},
   "outputs": [],
   "source": [
    "# Now Concatinating the two arrays c1 and c2."
   ]
  },
  {
   "cell_type": "code",
   "execution_count": 306,
   "id": "2620c628",
   "metadata": {},
   "outputs": [
    {
     "data": {
      "text/plain": [
       "array([1, 2, 3, 4, 1, 2, 3, 4])"
      ]
     },
     "execution_count": 306,
     "metadata": {},
     "output_type": "execute_result"
    }
   ],
   "source": [
    "np.concatenate([c1,c2])"
   ]
  },
  {
   "cell_type": "code",
   "execution_count": 307,
   "id": "b5337f21",
   "metadata": {},
   "outputs": [
    {
     "ename": "AxisError",
     "evalue": "axis 1 is out of bounds for array of dimension 1",
     "output_type": "error",
     "traceback": [
      "\u001b[1;31m---------------------------------------------------------------------------\u001b[0m",
      "\u001b[1;31mAxisError\u001b[0m                                 Traceback (most recent call last)",
      "\u001b[1;32m~\\AppData\\Local\\Temp/ipykernel_27724/2396092184.py\u001b[0m in \u001b[0;36m<module>\u001b[1;34m\u001b[0m\n\u001b[1;32m----> 1\u001b[1;33m \u001b[0mnp\u001b[0m\u001b[1;33m.\u001b[0m\u001b[0mconcatenate\u001b[0m\u001b[1;33m(\u001b[0m\u001b[1;33m[\u001b[0m\u001b[0mc1\u001b[0m\u001b[1;33m,\u001b[0m\u001b[0mc2\u001b[0m\u001b[1;33m]\u001b[0m \u001b[1;33m,\u001b[0m \u001b[0maxis\u001b[0m \u001b[1;33m=\u001b[0m \u001b[1;36m1\u001b[0m\u001b[1;33m)\u001b[0m\u001b[1;33m\u001b[0m\u001b[1;33m\u001b[0m\u001b[0m\n\u001b[0m",
      "\u001b[1;32m<__array_function__ internals>\u001b[0m in \u001b[0;36mconcatenate\u001b[1;34m(*args, **kwargs)\u001b[0m\n",
      "\u001b[1;31mAxisError\u001b[0m: axis 1 is out of bounds for array of dimension 1"
     ]
    }
   ],
   "source": [
    "np.concatenate([c1,c2] , axis = 1)"
   ]
  },
  {
   "cell_type": "markdown",
   "id": "1ae86a79",
   "metadata": {},
   "source": [
    "#  In the above as we are performing the concatenation on the 1D arrays, giving axis \"1\"gives an error for the 1D array. But giving axis \"0\" works as they are the 1D arrays and \"0\" axis is the first dimension. "
   ]
  },
  {
   "cell_type": "code",
   "execution_count": 308,
   "id": "37b41b9c",
   "metadata": {},
   "outputs": [
    {
     "data": {
      "text/plain": [
       "array([1, 2, 3, 4, 1, 2, 3, 4])"
      ]
     },
     "execution_count": 308,
     "metadata": {},
     "output_type": "execute_result"
    }
   ],
   "source": [
    "np.concatenate([c1,c2] , axis = 0)"
   ]
  },
  {
   "cell_type": "markdown",
   "id": "65131d1e",
   "metadata": {},
   "source": [
    "#  Example - 2 (2D Array)"
   ]
  },
  {
   "cell_type": "code",
   "execution_count": 309,
   "id": "8d8b9173",
   "metadata": {},
   "outputs": [],
   "source": [
    "c1 = np.arange(12).reshape(4,3)\n",
    "c2 = np.arange(12).reshape(4,3)"
   ]
  },
  {
   "cell_type": "code",
   "execution_count": 310,
   "id": "c885ddd2",
   "metadata": {},
   "outputs": [
    {
     "name": "stdout",
     "output_type": "stream",
     "text": [
      "[[ 0  1  2]\n",
      " [ 3  4  5]\n",
      " [ 6  7  8]\n",
      " [ 9 10 11]]\n",
      "[[ 0  1  2]\n",
      " [ 3  4  5]\n",
      " [ 6  7  8]\n",
      " [ 9 10 11]]\n"
     ]
    }
   ],
   "source": [
    "print(c1)\n",
    "print(c2)"
   ]
  },
  {
   "cell_type": "code",
   "execution_count": 311,
   "id": "9e8713a0",
   "metadata": {},
   "outputs": [
    {
     "name": "stdout",
     "output_type": "stream",
     "text": [
      "(4, 3)\n",
      "2\n"
     ]
    }
   ],
   "source": [
    "print(c1.shape)\n",
    "print(c1.ndim)"
   ]
  },
  {
   "cell_type": "code",
   "execution_count": 312,
   "id": "7dfa750d",
   "metadata": {},
   "outputs": [
    {
     "name": "stdout",
     "output_type": "stream",
     "text": [
      "(4, 3)\n",
      "2\n"
     ]
    }
   ],
   "source": [
    "print(c2.shape)\n",
    "print(c2.ndim)"
   ]
  },
  {
   "cell_type": "markdown",
   "id": "a8c67229",
   "metadata": {},
   "source": [
    "# Concatenating Normally without axis"
   ]
  },
  {
   "cell_type": "code",
   "execution_count": 313,
   "id": "3ba0eb2e",
   "metadata": {},
   "outputs": [],
   "source": [
    "c3 = np.concatenate([c1,c2])"
   ]
  },
  {
   "cell_type": "code",
   "execution_count": 314,
   "id": "9c481619",
   "metadata": {},
   "outputs": [
    {
     "data": {
      "text/plain": [
       "array([[ 0,  1,  2],\n",
       "       [ 3,  4,  5],\n",
       "       [ 6,  7,  8],\n",
       "       [ 9, 10, 11],\n",
       "       [ 0,  1,  2],\n",
       "       [ 3,  4,  5],\n",
       "       [ 6,  7,  8],\n",
       "       [ 9, 10, 11]])"
      ]
     },
     "execution_count": 314,
     "metadata": {},
     "output_type": "execute_result"
    }
   ],
   "source": [
    "c3"
   ]
  },
  {
   "cell_type": "code",
   "execution_count": 315,
   "id": "bcb21eef",
   "metadata": {},
   "outputs": [
    {
     "name": "stdout",
     "output_type": "stream",
     "text": [
      "(8, 3)\n",
      "2\n"
     ]
    }
   ],
   "source": [
    "print(c3.shape)\n",
    "print(c3.ndim)"
   ]
  },
  {
   "cell_type": "markdown",
   "id": "60871e55",
   "metadata": {},
   "source": [
    "# Concatenating with respect to axis=1"
   ]
  },
  {
   "cell_type": "code",
   "execution_count": 316,
   "id": "c8662cc6",
   "metadata": {},
   "outputs": [],
   "source": [
    "c4 = np.concatenate([c1,c2] , axis = 1)"
   ]
  },
  {
   "cell_type": "code",
   "execution_count": 317,
   "id": "0d9b6495",
   "metadata": {},
   "outputs": [
    {
     "data": {
      "text/plain": [
       "array([[ 0,  1,  2,  0,  1,  2],\n",
       "       [ 3,  4,  5,  3,  4,  5],\n",
       "       [ 6,  7,  8,  6,  7,  8],\n",
       "       [ 9, 10, 11,  9, 10, 11]])"
      ]
     },
     "execution_count": 317,
     "metadata": {},
     "output_type": "execute_result"
    }
   ],
   "source": [
    "c4"
   ]
  },
  {
   "cell_type": "code",
   "execution_count": 318,
   "id": "64a021a2",
   "metadata": {},
   "outputs": [
    {
     "name": "stdout",
     "output_type": "stream",
     "text": [
      "(4, 6)\n",
      "2\n"
     ]
    }
   ],
   "source": [
    "print(c4.shape)\n",
    "print(c4.ndim)"
   ]
  },
  {
   "cell_type": "markdown",
   "id": "c1536b05",
   "metadata": {},
   "source": [
    "# Concatenating with respect to axis=0"
   ]
  },
  {
   "cell_type": "code",
   "execution_count": 319,
   "id": "d084f60f",
   "metadata": {},
   "outputs": [],
   "source": [
    "c5 = np.concatenate([c1,c2] , axis = 0)"
   ]
  },
  {
   "cell_type": "code",
   "execution_count": 320,
   "id": "974b0a99",
   "metadata": {},
   "outputs": [
    {
     "data": {
      "text/plain": [
       "array([[ 0,  1,  2],\n",
       "       [ 3,  4,  5],\n",
       "       [ 6,  7,  8],\n",
       "       [ 9, 10, 11],\n",
       "       [ 0,  1,  2],\n",
       "       [ 3,  4,  5],\n",
       "       [ 6,  7,  8],\n",
       "       [ 9, 10, 11]])"
      ]
     },
     "execution_count": 320,
     "metadata": {},
     "output_type": "execute_result"
    }
   ],
   "source": [
    "c5"
   ]
  },
  {
   "cell_type": "code",
   "execution_count": 321,
   "id": "c4ec9a91",
   "metadata": {},
   "outputs": [
    {
     "name": "stdout",
     "output_type": "stream",
     "text": [
      "(8, 3)\n",
      "2\n"
     ]
    }
   ],
   "source": [
    "print(c5.shape)\n",
    "print(c5.ndim)"
   ]
  },
  {
   "cell_type": "markdown",
   "id": "cd97ce82",
   "metadata": {},
   "source": [
    "# Note - For concatenating the default axis is equal to zero."
   ]
  },
  {
   "cell_type": "markdown",
   "id": "2ffe49b7",
   "metadata": {},
   "source": [
    "# Example - 3 (Taking 2D arrays of different shapes)"
   ]
  },
  {
   "cell_type": "code",
   "execution_count": 322,
   "id": "3096dca3",
   "metadata": {},
   "outputs": [],
   "source": [
    "c1 = np.arange(1,5).reshape(1,4)\n",
    "c2 = np.arange(12).reshape(3,4)"
   ]
  },
  {
   "cell_type": "code",
   "execution_count": 323,
   "id": "e0ba3017",
   "metadata": {},
   "outputs": [
    {
     "name": "stdout",
     "output_type": "stream",
     "text": [
      "[[1 2 3 4]]\n",
      "(1, 4)\n",
      "2\n"
     ]
    }
   ],
   "source": [
    "print(c1)\n",
    "print(c1.shape)\n",
    "print(c1.ndim)"
   ]
  },
  {
   "cell_type": "code",
   "execution_count": 324,
   "id": "55576dc2",
   "metadata": {},
   "outputs": [
    {
     "name": "stdout",
     "output_type": "stream",
     "text": [
      "[[ 0  1  2  3]\n",
      " [ 4  5  6  7]\n",
      " [ 8  9 10 11]]\n",
      "(3, 4)\n",
      "2\n"
     ]
    }
   ],
   "source": [
    "print(c2)\n",
    "print(c2.shape)\n",
    "print(c2.ndim)"
   ]
  },
  {
   "cell_type": "code",
   "execution_count": 325,
   "id": "03409ae5",
   "metadata": {},
   "outputs": [],
   "source": [
    "c3 = np.concatenate([c1,c2])"
   ]
  },
  {
   "cell_type": "code",
   "execution_count": 326,
   "id": "7b3569a6",
   "metadata": {},
   "outputs": [
    {
     "name": "stdout",
     "output_type": "stream",
     "text": [
      "[[ 1  2  3  4]\n",
      " [ 0  1  2  3]\n",
      " [ 4  5  6  7]\n",
      " [ 8  9 10 11]]\n",
      "(4, 4)\n",
      "2\n"
     ]
    }
   ],
   "source": [
    "print(c3)\n",
    "print(c3.shape)\n",
    "print(c3.ndim)"
   ]
  },
  {
   "cell_type": "code",
   "execution_count": 327,
   "id": "2be74215",
   "metadata": {},
   "outputs": [
    {
     "ename": "ValueError",
     "evalue": "all the input array dimensions for the concatenation axis must match exactly, but along dimension 0, the array at index 0 has size 1 and the array at index 1 has size 3",
     "output_type": "error",
     "traceback": [
      "\u001b[1;31m---------------------------------------------------------------------------\u001b[0m",
      "\u001b[1;31mValueError\u001b[0m                                Traceback (most recent call last)",
      "\u001b[1;32m~\\AppData\\Local\\Temp/ipykernel_27724/1231750019.py\u001b[0m in \u001b[0;36m<module>\u001b[1;34m\u001b[0m\n\u001b[1;32m----> 1\u001b[1;33m \u001b[0mc4\u001b[0m \u001b[1;33m=\u001b[0m \u001b[0mnp\u001b[0m\u001b[1;33m.\u001b[0m\u001b[0mconcatenate\u001b[0m\u001b[1;33m(\u001b[0m\u001b[1;33m[\u001b[0m\u001b[0mc1\u001b[0m\u001b[1;33m,\u001b[0m\u001b[0mc2\u001b[0m\u001b[1;33m]\u001b[0m \u001b[1;33m,\u001b[0m \u001b[0maxis\u001b[0m \u001b[1;33m=\u001b[0m \u001b[1;36m1\u001b[0m\u001b[1;33m)\u001b[0m\u001b[1;33m\u001b[0m\u001b[1;33m\u001b[0m\u001b[0m\n\u001b[0m",
      "\u001b[1;32m<__array_function__ internals>\u001b[0m in \u001b[0;36mconcatenate\u001b[1;34m(*args, **kwargs)\u001b[0m\n",
      "\u001b[1;31mValueError\u001b[0m: all the input array dimensions for the concatenation axis must match exactly, but along dimension 0, the array at index 0 has size 1 and the array at index 1 has size 3"
     ]
    }
   ],
   "source": [
    "c4 = np.concatenate([c1,c2] , axis = 1)"
   ]
  },
  {
   "cell_type": "code",
   "execution_count": 328,
   "id": "28d11304",
   "metadata": {},
   "outputs": [
    {
     "ename": "IndentationError",
     "evalue": "unexpected indent (Temp/ipykernel_27724/2803149120.py, line 2)",
     "output_type": "error",
     "traceback": [
      "\u001b[1;36m  File \u001b[1;32m\"C:\\Users\\DELL\\AppData\\Local\\Temp/ipykernel_27724/2803149120.py\"\u001b[1;36m, line \u001b[1;32m2\u001b[0m\n\u001b[1;33m    c5\u001b[0m\n\u001b[1;37m    ^\u001b[0m\n\u001b[1;31mIndentationError\u001b[0m\u001b[1;31m:\u001b[0m unexpected indent\n"
     ]
    }
   ],
   "source": [
    "c5 = np.concatenate([c2,c1])\n",
    "    c5"
   ]
  },
  {
   "cell_type": "markdown",
   "id": "94297f48",
   "metadata": {},
   "source": [
    "# Example - 4 (Taking one 1D array and one 2D array)"
   ]
  },
  {
   "cell_type": "code",
   "execution_count": 329,
   "id": "8813fa61",
   "metadata": {},
   "outputs": [],
   "source": [
    "c1 = np.arange(12).reshape(3,4)\n",
    "c2 = np.arange(1,5)"
   ]
  },
  {
   "cell_type": "code",
   "execution_count": 330,
   "id": "754a761b",
   "metadata": {},
   "outputs": [
    {
     "name": "stdout",
     "output_type": "stream",
     "text": [
      "[[ 0  1  2  3]\n",
      " [ 4  5  6  7]\n",
      " [ 8  9 10 11]]\n",
      "(3, 4)\n",
      "2\n"
     ]
    }
   ],
   "source": [
    "print(c1)\n",
    "print(c1.shape)\n",
    "print(c1.ndim)"
   ]
  },
  {
   "cell_type": "code",
   "execution_count": 331,
   "id": "921712aa",
   "metadata": {},
   "outputs": [
    {
     "name": "stdout",
     "output_type": "stream",
     "text": [
      "[1 2 3 4]\n",
      "(4,)\n",
      "1\n"
     ]
    }
   ],
   "source": [
    "print(c2)\n",
    "print(c2.shape)\n",
    "print(c2.ndim)"
   ]
  },
  {
   "cell_type": "code",
   "execution_count": 332,
   "id": "068cee48",
   "metadata": {},
   "outputs": [
    {
     "ename": "ValueError",
     "evalue": "all the input arrays must have same number of dimensions, but the array at index 0 has 2 dimension(s) and the array at index 1 has 1 dimension(s)",
     "output_type": "error",
     "traceback": [
      "\u001b[1;31m---------------------------------------------------------------------------\u001b[0m",
      "\u001b[1;31mValueError\u001b[0m                                Traceback (most recent call last)",
      "\u001b[1;32m~\\AppData\\Local\\Temp/ipykernel_27724/1292904087.py\u001b[0m in \u001b[0;36m<module>\u001b[1;34m\u001b[0m\n\u001b[1;32m----> 1\u001b[1;33m \u001b[0mnp\u001b[0m\u001b[1;33m.\u001b[0m\u001b[0mconcatenate\u001b[0m\u001b[1;33m(\u001b[0m\u001b[1;33m[\u001b[0m\u001b[0mc1\u001b[0m\u001b[1;33m,\u001b[0m\u001b[0mc2\u001b[0m\u001b[1;33m]\u001b[0m\u001b[1;33m)\u001b[0m\u001b[1;33m\u001b[0m\u001b[1;33m\u001b[0m\u001b[0m\n\u001b[0m",
      "\u001b[1;32m<__array_function__ internals>\u001b[0m in \u001b[0;36mconcatenate\u001b[1;34m(*args, **kwargs)\u001b[0m\n",
      "\u001b[1;31mValueError\u001b[0m: all the input arrays must have same number of dimensions, but the array at index 0 has 2 dimension(s) and the array at index 1 has 1 dimension(s)"
     ]
    }
   ],
   "source": [
    "np.concatenate([c1,c2])"
   ]
  },
  {
   "cell_type": "code",
   "execution_count": 333,
   "id": "329167ca",
   "metadata": {},
   "outputs": [
    {
     "ename": "ValueError",
     "evalue": "all the input arrays must have same number of dimensions, but the array at index 0 has 2 dimension(s) and the array at index 1 has 1 dimension(s)",
     "output_type": "error",
     "traceback": [
      "\u001b[1;31m---------------------------------------------------------------------------\u001b[0m",
      "\u001b[1;31mValueError\u001b[0m                                Traceback (most recent call last)",
      "\u001b[1;32m~\\AppData\\Local\\Temp/ipykernel_27724/1500250392.py\u001b[0m in \u001b[0;36m<module>\u001b[1;34m\u001b[0m\n\u001b[1;32m----> 1\u001b[1;33m \u001b[0mnp\u001b[0m\u001b[1;33m.\u001b[0m\u001b[0mconcatenate\u001b[0m\u001b[1;33m(\u001b[0m\u001b[1;33m[\u001b[0m\u001b[0mc1\u001b[0m\u001b[1;33m,\u001b[0m\u001b[0mc2\u001b[0m\u001b[1;33m]\u001b[0m \u001b[1;33m,\u001b[0m \u001b[0maxis\u001b[0m\u001b[1;33m=\u001b[0m\u001b[1;36m0\u001b[0m\u001b[1;33m)\u001b[0m\u001b[1;33m\u001b[0m\u001b[1;33m\u001b[0m\u001b[0m\n\u001b[0m",
      "\u001b[1;32m<__array_function__ internals>\u001b[0m in \u001b[0;36mconcatenate\u001b[1;34m(*args, **kwargs)\u001b[0m\n",
      "\u001b[1;31mValueError\u001b[0m: all the input arrays must have same number of dimensions, but the array at index 0 has 2 dimension(s) and the array at index 1 has 1 dimension(s)"
     ]
    }
   ],
   "source": [
    "np.concatenate([c1,c2] , axis=0)"
   ]
  },
  {
   "cell_type": "code",
   "execution_count": 334,
   "id": "0c0de556",
   "metadata": {},
   "outputs": [
    {
     "ename": "ValueError",
     "evalue": "all the input arrays must have same number of dimensions, but the array at index 0 has 2 dimension(s) and the array at index 1 has 1 dimension(s)",
     "output_type": "error",
     "traceback": [
      "\u001b[1;31m---------------------------------------------------------------------------\u001b[0m",
      "\u001b[1;31mValueError\u001b[0m                                Traceback (most recent call last)",
      "\u001b[1;32m~\\AppData\\Local\\Temp/ipykernel_27724/2362785997.py\u001b[0m in \u001b[0;36m<module>\u001b[1;34m\u001b[0m\n\u001b[1;32m----> 1\u001b[1;33m \u001b[0mnp\u001b[0m\u001b[1;33m.\u001b[0m\u001b[0mconcatenate\u001b[0m\u001b[1;33m(\u001b[0m\u001b[1;33m[\u001b[0m\u001b[0mc1\u001b[0m\u001b[1;33m,\u001b[0m\u001b[0mc2\u001b[0m\u001b[1;33m]\u001b[0m \u001b[1;33m,\u001b[0m \u001b[0maxis\u001b[0m\u001b[1;33m=\u001b[0m\u001b[1;36m1\u001b[0m\u001b[1;33m)\u001b[0m\u001b[1;33m\u001b[0m\u001b[1;33m\u001b[0m\u001b[0m\n\u001b[0m",
      "\u001b[1;32m<__array_function__ internals>\u001b[0m in \u001b[0;36mconcatenate\u001b[1;34m(*args, **kwargs)\u001b[0m\n",
      "\u001b[1;31mValueError\u001b[0m: all the input arrays must have same number of dimensions, but the array at index 0 has 2 dimension(s) and the array at index 1 has 1 dimension(s)"
     ]
    }
   ],
   "source": [
    "np.concatenate([c1,c2] , axis=1)"
   ]
  },
  {
   "cell_type": "markdown",
   "id": "dd5a5204",
   "metadata": {},
   "source": [
    "# Stacking "
   ]
  },
  {
   "cell_type": "code",
   "execution_count": 335,
   "id": "eb77ca6d",
   "metadata": {},
   "outputs": [],
   "source": [
    "# Example-1 (Two 1D arrays)"
   ]
  },
  {
   "cell_type": "code",
   "execution_count": 336,
   "id": "97bbca72",
   "metadata": {},
   "outputs": [
    {
     "name": "stdout",
     "output_type": "stream",
     "text": [
      "[1 2 3 4]\n",
      "[1 2 3 4]\n",
      "(4,)\n",
      "(4,)\n",
      "1\n",
      "1\n"
     ]
    }
   ],
   "source": [
    "c1 = np.arange(1,5)\n",
    "c2 = np.arange(1,5)\n",
    "print(c1)\n",
    "print(c2)\n",
    "print(c1.shape)\n",
    "print(c2.shape)\n",
    "print(c1.ndim)\n",
    "print(c2.ndim)"
   ]
  },
  {
   "cell_type": "markdown",
   "id": "6f86e3e2",
   "metadata": {},
   "source": [
    "# Applying \"hstack\"."
   ]
  },
  {
   "cell_type": "code",
   "execution_count": 337,
   "id": "c276d6e0",
   "metadata": {
    "scrolled": true
   },
   "outputs": [
    {
     "data": {
      "text/plain": [
       "array([1, 2, 3, 4, 1, 2, 3, 4])"
      ]
     },
     "execution_count": 337,
     "metadata": {},
     "output_type": "execute_result"
    }
   ],
   "source": [
    "c3 = np.hstack([c1,c2])\n",
    "c3"
   ]
  },
  {
   "cell_type": "code",
   "execution_count": 338,
   "id": "c7e879e0",
   "metadata": {},
   "outputs": [
    {
     "name": "stdout",
     "output_type": "stream",
     "text": [
      "(8,)\n",
      "1\n"
     ]
    }
   ],
   "source": [
    "print(c3.shape)\n",
    "print(c3.ndim)"
   ]
  },
  {
   "cell_type": "markdown",
   "id": "1e2ab5af",
   "metadata": {},
   "source": [
    "# Applying vstack"
   ]
  },
  {
   "cell_type": "code",
   "execution_count": 339,
   "id": "13113792",
   "metadata": {},
   "outputs": [
    {
     "data": {
      "text/plain": [
       "array([[1, 2, 3, 4],\n",
       "       [1, 2, 3, 4]])"
      ]
     },
     "execution_count": 339,
     "metadata": {},
     "output_type": "execute_result"
    }
   ],
   "source": [
    "c4 = np.vstack([c1,c2])\n",
    "c4"
   ]
  },
  {
   "cell_type": "code",
   "execution_count": 340,
   "id": "dc82d3db",
   "metadata": {},
   "outputs": [
    {
     "name": "stdout",
     "output_type": "stream",
     "text": [
      "(2, 4)\n",
      "2\n"
     ]
    }
   ],
   "source": [
    "print(c4.shape)\n",
    "print(c4.ndim)"
   ]
  },
  {
   "cell_type": "markdown",
   "id": "05b70978",
   "metadata": {},
   "source": [
    "# Example - 2 (2D Array)"
   ]
  },
  {
   "cell_type": "code",
   "execution_count": 341,
   "id": "67bc77e5",
   "metadata": {},
   "outputs": [],
   "source": [
    "c1 = np.arange(12).reshape(4,3)\n",
    "c2 = np.arange(12).reshape(4,3)"
   ]
  },
  {
   "cell_type": "code",
   "execution_count": 342,
   "id": "95582e43",
   "metadata": {},
   "outputs": [
    {
     "name": "stdout",
     "output_type": "stream",
     "text": [
      "[[ 0  1  2]\n",
      " [ 3  4  5]\n",
      " [ 6  7  8]\n",
      " [ 9 10 11]]\n",
      "[[ 0  1  2]\n",
      " [ 3  4  5]\n",
      " [ 6  7  8]\n",
      " [ 9 10 11]]\n"
     ]
    }
   ],
   "source": [
    "print(c1)\n",
    "print(c2)"
   ]
  },
  {
   "cell_type": "code",
   "execution_count": 343,
   "id": "b82d345a",
   "metadata": {},
   "outputs": [
    {
     "name": "stdout",
     "output_type": "stream",
     "text": [
      "(4, 3)\n",
      "2\n"
     ]
    }
   ],
   "source": [
    "print(c1.shape)\n",
    "print(c1.ndim)"
   ]
  },
  {
   "cell_type": "code",
   "execution_count": 344,
   "id": "3a64a30b",
   "metadata": {},
   "outputs": [
    {
     "name": "stdout",
     "output_type": "stream",
     "text": [
      "(4, 3)\n",
      "2\n"
     ]
    }
   ],
   "source": [
    "print(c2.shape)\n",
    "print(c2.ndim)"
   ]
  },
  {
   "cell_type": "code",
   "execution_count": 345,
   "id": "e501eb03",
   "metadata": {},
   "outputs": [
    {
     "name": "stdout",
     "output_type": "stream",
     "text": [
      "[[ 0  1  2  0  1  2]\n",
      " [ 3  4  5  3  4  5]\n",
      " [ 6  7  8  6  7  8]\n",
      " [ 9 10 11  9 10 11]]\n",
      "(4, 6)\n",
      "2\n"
     ]
    }
   ],
   "source": [
    "c3 = np.hstack([c1,c2])\n",
    "print(c3)\n",
    "print(c3.shape)\n",
    "print(c3.ndim)"
   ]
  },
  {
   "cell_type": "code",
   "execution_count": 346,
   "id": "c8270e7d",
   "metadata": {},
   "outputs": [
    {
     "name": "stdout",
     "output_type": "stream",
     "text": [
      "(8, 3)\n",
      "2\n"
     ]
    }
   ],
   "source": [
    "c4 = np.vstack([c1,c2])\n",
    "print(c4.shape)\n",
    "print(c4.ndim)"
   ]
  },
  {
   "cell_type": "markdown",
   "id": "afc8c9e8",
   "metadata": {},
   "source": [
    "# Example - 3 (Taking 2D arrays of different shapes)"
   ]
  },
  {
   "cell_type": "code",
   "execution_count": 347,
   "id": "46378ae5",
   "metadata": {},
   "outputs": [],
   "source": [
    "c1 = np.arange(1,5).reshape(1,4)\n",
    "c2 = np.arange(12).reshape(3,4)"
   ]
  },
  {
   "cell_type": "code",
   "execution_count": 348,
   "id": "ac7c59ed",
   "metadata": {},
   "outputs": [
    {
     "name": "stdout",
     "output_type": "stream",
     "text": [
      "[[1 2 3 4]]\n",
      "(1, 4)\n",
      "2\n"
     ]
    }
   ],
   "source": [
    "print(c1)\n",
    "print(c1.shape)\n",
    "print(c1.ndim)"
   ]
  },
  {
   "cell_type": "code",
   "execution_count": 349,
   "id": "ac2dd402",
   "metadata": {},
   "outputs": [
    {
     "name": "stdout",
     "output_type": "stream",
     "text": [
      "[[ 0  1  2  3]\n",
      " [ 4  5  6  7]\n",
      " [ 8  9 10 11]]\n",
      "(3, 4)\n",
      "2\n"
     ]
    }
   ],
   "source": [
    "print(c2)\n",
    "print(c2.shape)\n",
    "print(c2.ndim)"
   ]
  },
  {
   "cell_type": "code",
   "execution_count": 350,
   "id": "08dee3b5",
   "metadata": {},
   "outputs": [
    {
     "ename": "ValueError",
     "evalue": "all the input array dimensions for the concatenation axis must match exactly, but along dimension 0, the array at index 0 has size 1 and the array at index 1 has size 3",
     "output_type": "error",
     "traceback": [
      "\u001b[1;31m---------------------------------------------------------------------------\u001b[0m",
      "\u001b[1;31mValueError\u001b[0m                                Traceback (most recent call last)",
      "\u001b[1;32m~\\AppData\\Local\\Temp/ipykernel_27724/3620077759.py\u001b[0m in \u001b[0;36m<module>\u001b[1;34m\u001b[0m\n\u001b[1;32m----> 1\u001b[1;33m \u001b[0mnp\u001b[0m\u001b[1;33m.\u001b[0m\u001b[0mhstack\u001b[0m\u001b[1;33m(\u001b[0m\u001b[1;33m[\u001b[0m\u001b[0mc1\u001b[0m\u001b[1;33m,\u001b[0m\u001b[0mc2\u001b[0m\u001b[1;33m]\u001b[0m\u001b[1;33m)\u001b[0m\u001b[1;33m\u001b[0m\u001b[1;33m\u001b[0m\u001b[0m\n\u001b[0m",
      "\u001b[1;32m<__array_function__ internals>\u001b[0m in \u001b[0;36mhstack\u001b[1;34m(*args, **kwargs)\u001b[0m\n",
      "\u001b[1;32m~\\anaconda3\\lib\\site-packages\\numpy\\core\\shape_base.py\u001b[0m in \u001b[0;36mhstack\u001b[1;34m(tup)\u001b[0m\n\u001b[0;32m    344\u001b[0m         \u001b[1;32mreturn\u001b[0m \u001b[0m_nx\u001b[0m\u001b[1;33m.\u001b[0m\u001b[0mconcatenate\u001b[0m\u001b[1;33m(\u001b[0m\u001b[0marrs\u001b[0m\u001b[1;33m,\u001b[0m \u001b[1;36m0\u001b[0m\u001b[1;33m)\u001b[0m\u001b[1;33m\u001b[0m\u001b[1;33m\u001b[0m\u001b[0m\n\u001b[0;32m    345\u001b[0m     \u001b[1;32melse\u001b[0m\u001b[1;33m:\u001b[0m\u001b[1;33m\u001b[0m\u001b[1;33m\u001b[0m\u001b[0m\n\u001b[1;32m--> 346\u001b[1;33m         \u001b[1;32mreturn\u001b[0m \u001b[0m_nx\u001b[0m\u001b[1;33m.\u001b[0m\u001b[0mconcatenate\u001b[0m\u001b[1;33m(\u001b[0m\u001b[0marrs\u001b[0m\u001b[1;33m,\u001b[0m \u001b[1;36m1\u001b[0m\u001b[1;33m)\u001b[0m\u001b[1;33m\u001b[0m\u001b[1;33m\u001b[0m\u001b[0m\n\u001b[0m\u001b[0;32m    347\u001b[0m \u001b[1;33m\u001b[0m\u001b[0m\n\u001b[0;32m    348\u001b[0m \u001b[1;33m\u001b[0m\u001b[0m\n",
      "\u001b[1;32m<__array_function__ internals>\u001b[0m in \u001b[0;36mconcatenate\u001b[1;34m(*args, **kwargs)\u001b[0m\n",
      "\u001b[1;31mValueError\u001b[0m: all the input array dimensions for the concatenation axis must match exactly, but along dimension 0, the array at index 0 has size 1 and the array at index 1 has size 3"
     ]
    }
   ],
   "source": [
    "np.hstack([c1,c2])"
   ]
  },
  {
   "cell_type": "code",
   "execution_count": 351,
   "id": "22e457f8",
   "metadata": {},
   "outputs": [
    {
     "data": {
      "text/plain": [
       "array([[ 1,  2,  3,  4],\n",
       "       [ 0,  1,  2,  3],\n",
       "       [ 4,  5,  6,  7],\n",
       "       [ 8,  9, 10, 11]])"
      ]
     },
     "execution_count": 351,
     "metadata": {},
     "output_type": "execute_result"
    }
   ],
   "source": [
    "np.vstack([c1,c2])"
   ]
  },
  {
   "cell_type": "markdown",
   "id": "9a66f7e0",
   "metadata": {},
   "source": [
    "# Example - 4 (Taking one 1D array and one 2D array)"
   ]
  },
  {
   "cell_type": "code",
   "execution_count": 352,
   "id": "ab359354",
   "metadata": {},
   "outputs": [],
   "source": [
    "c1 = np.arange(12).reshape(3,4)\n",
    "c2 = np.arange(1,5)"
   ]
  },
  {
   "cell_type": "code",
   "execution_count": 353,
   "id": "54663ea1",
   "metadata": {},
   "outputs": [
    {
     "name": "stdout",
     "output_type": "stream",
     "text": [
      "[[ 0  1  2  3]\n",
      " [ 4  5  6  7]\n",
      " [ 8  9 10 11]]\n",
      "(3, 4)\n",
      "2\n"
     ]
    }
   ],
   "source": [
    "print(c1)\n",
    "print(c1.shape)\n",
    "print(c1.ndim)"
   ]
  },
  {
   "cell_type": "code",
   "execution_count": 354,
   "id": "9469eb8e",
   "metadata": {},
   "outputs": [
    {
     "name": "stdout",
     "output_type": "stream",
     "text": [
      "[1 2 3 4]\n",
      "(4,)\n",
      "1\n"
     ]
    }
   ],
   "source": [
    "print(c2)\n",
    "print(c2.shape)\n",
    "print(c2.ndim)"
   ]
  },
  {
   "cell_type": "code",
   "execution_count": 355,
   "id": "a06f75cf",
   "metadata": {},
   "outputs": [
    {
     "ename": "ValueError",
     "evalue": "all the input arrays must have same number of dimensions, but the array at index 0 has 2 dimension(s) and the array at index 1 has 1 dimension(s)",
     "output_type": "error",
     "traceback": [
      "\u001b[1;31m---------------------------------------------------------------------------\u001b[0m",
      "\u001b[1;31mValueError\u001b[0m                                Traceback (most recent call last)",
      "\u001b[1;32m~\\AppData\\Local\\Temp/ipykernel_27724/3620077759.py\u001b[0m in \u001b[0;36m<module>\u001b[1;34m\u001b[0m\n\u001b[1;32m----> 1\u001b[1;33m \u001b[0mnp\u001b[0m\u001b[1;33m.\u001b[0m\u001b[0mhstack\u001b[0m\u001b[1;33m(\u001b[0m\u001b[1;33m[\u001b[0m\u001b[0mc1\u001b[0m\u001b[1;33m,\u001b[0m\u001b[0mc2\u001b[0m\u001b[1;33m]\u001b[0m\u001b[1;33m)\u001b[0m\u001b[1;33m\u001b[0m\u001b[1;33m\u001b[0m\u001b[0m\n\u001b[0m",
      "\u001b[1;32m<__array_function__ internals>\u001b[0m in \u001b[0;36mhstack\u001b[1;34m(*args, **kwargs)\u001b[0m\n",
      "\u001b[1;32m~\\anaconda3\\lib\\site-packages\\numpy\\core\\shape_base.py\u001b[0m in \u001b[0;36mhstack\u001b[1;34m(tup)\u001b[0m\n\u001b[0;32m    344\u001b[0m         \u001b[1;32mreturn\u001b[0m \u001b[0m_nx\u001b[0m\u001b[1;33m.\u001b[0m\u001b[0mconcatenate\u001b[0m\u001b[1;33m(\u001b[0m\u001b[0marrs\u001b[0m\u001b[1;33m,\u001b[0m \u001b[1;36m0\u001b[0m\u001b[1;33m)\u001b[0m\u001b[1;33m\u001b[0m\u001b[1;33m\u001b[0m\u001b[0m\n\u001b[0;32m    345\u001b[0m     \u001b[1;32melse\u001b[0m\u001b[1;33m:\u001b[0m\u001b[1;33m\u001b[0m\u001b[1;33m\u001b[0m\u001b[0m\n\u001b[1;32m--> 346\u001b[1;33m         \u001b[1;32mreturn\u001b[0m \u001b[0m_nx\u001b[0m\u001b[1;33m.\u001b[0m\u001b[0mconcatenate\u001b[0m\u001b[1;33m(\u001b[0m\u001b[0marrs\u001b[0m\u001b[1;33m,\u001b[0m \u001b[1;36m1\u001b[0m\u001b[1;33m)\u001b[0m\u001b[1;33m\u001b[0m\u001b[1;33m\u001b[0m\u001b[0m\n\u001b[0m\u001b[0;32m    347\u001b[0m \u001b[1;33m\u001b[0m\u001b[0m\n\u001b[0;32m    348\u001b[0m \u001b[1;33m\u001b[0m\u001b[0m\n",
      "\u001b[1;32m<__array_function__ internals>\u001b[0m in \u001b[0;36mconcatenate\u001b[1;34m(*args, **kwargs)\u001b[0m\n",
      "\u001b[1;31mValueError\u001b[0m: all the input arrays must have same number of dimensions, but the array at index 0 has 2 dimension(s) and the array at index 1 has 1 dimension(s)"
     ]
    }
   ],
   "source": [
    "np.hstack([c1,c2])"
   ]
  },
  {
   "cell_type": "code",
   "execution_count": 356,
   "id": "642ba0c7",
   "metadata": {},
   "outputs": [
    {
     "data": {
      "text/plain": [
       "array([[ 0,  1,  2,  3],\n",
       "       [ 4,  5,  6,  7],\n",
       "       [ 8,  9, 10, 11],\n",
       "       [ 1,  2,  3,  4]])"
      ]
     },
     "execution_count": 356,
     "metadata": {},
     "output_type": "execute_result"
    }
   ],
   "source": [
    "np.vstack([c1,c2])"
   ]
  },
  {
   "cell_type": "markdown",
   "id": "883d7435",
   "metadata": {},
   "source": [
    "# Splitting "
   ]
  },
  {
   "cell_type": "code",
   "execution_count": 357,
   "id": "f344f22a",
   "metadata": {},
   "outputs": [
    {
     "name": "stdout",
     "output_type": "stream",
     "text": [
      "[ 1  2  3  4  5  6  7  8  9 10 11 12]\n"
     ]
    }
   ],
   "source": [
    "c1 = np.arange(1,13)\n",
    "print(c1)"
   ]
  },
  {
   "cell_type": "markdown",
   "id": "a50680cc",
   "metadata": {},
   "source": [
    "# Splitting array in to 3 equal parts."
   ]
  },
  {
   "cell_type": "code",
   "execution_count": 358,
   "id": "76c9d262",
   "metadata": {},
   "outputs": [
    {
     "data": {
      "text/plain": [
       "[array([1, 2, 3, 4]), array([5, 6, 7, 8]), array([ 9, 10, 11, 12])]"
      ]
     },
     "execution_count": 358,
     "metadata": {},
     "output_type": "execute_result"
    }
   ],
   "source": [
    "np.split(c1,3)"
   ]
  },
  {
   "cell_type": "markdown",
   "id": "b18aaf32",
   "metadata": {},
   "source": [
    "# Splitting array in to 4 equal parts."
   ]
  },
  {
   "cell_type": "code",
   "execution_count": 359,
   "id": "c8c51346",
   "metadata": {},
   "outputs": [
    {
     "data": {
      "text/plain": [
       "[array([1, 2, 3]), array([4, 5, 6]), array([7, 8, 9]), array([10, 11, 12])]"
      ]
     },
     "execution_count": 359,
     "metadata": {},
     "output_type": "execute_result"
    }
   ],
   "source": [
    "np.split(c1,4)"
   ]
  },
  {
   "cell_type": "markdown",
   "id": "bab87a5c",
   "metadata": {},
   "source": [
    "# Splitting array in to 2 equal parts."
   ]
  },
  {
   "cell_type": "code",
   "execution_count": 360,
   "id": "cb7cfc82",
   "metadata": {},
   "outputs": [
    {
     "data": {
      "text/plain": [
       "[array([1, 2, 3, 4, 5, 6]), array([ 7,  8,  9, 10, 11, 12])]"
      ]
     },
     "execution_count": 360,
     "metadata": {},
     "output_type": "execute_result"
    }
   ],
   "source": [
    "np.split(c1,2)"
   ]
  },
  {
   "cell_type": "markdown",
   "id": "fecbbea9",
   "metadata": {},
   "source": [
    "# Splitting array in to 6 equal parts."
   ]
  },
  {
   "cell_type": "code",
   "execution_count": 361,
   "id": "09360e88",
   "metadata": {},
   "outputs": [
    {
     "data": {
      "text/plain": [
       "[array([1, 2]),\n",
       " array([3, 4]),\n",
       " array([5, 6]),\n",
       " array([7, 8]),\n",
       " array([ 9, 10]),\n",
       " array([11, 12])]"
      ]
     },
     "execution_count": 361,
     "metadata": {},
     "output_type": "execute_result"
    }
   ],
   "source": [
    "np.split(c1,6)"
   ]
  },
  {
   "cell_type": "markdown",
   "id": "9827f425",
   "metadata": {},
   "source": [
    "# Splitting array in to 5 equal parts "
   ]
  },
  {
   "cell_type": "code",
   "execution_count": 362,
   "id": "4df64759",
   "metadata": {},
   "outputs": [
    {
     "ename": "ValueError",
     "evalue": "array split does not result in an equal division",
     "output_type": "error",
     "traceback": [
      "\u001b[1;31m---------------------------------------------------------------------------\u001b[0m",
      "\u001b[1;31mValueError\u001b[0m                                Traceback (most recent call last)",
      "\u001b[1;32m~\\AppData\\Local\\Temp/ipykernel_27724/2074029927.py\u001b[0m in \u001b[0;36m<module>\u001b[1;34m\u001b[0m\n\u001b[1;32m----> 1\u001b[1;33m \u001b[0mnp\u001b[0m\u001b[1;33m.\u001b[0m\u001b[0msplit\u001b[0m\u001b[1;33m(\u001b[0m\u001b[0mc1\u001b[0m\u001b[1;33m,\u001b[0m\u001b[1;36m5\u001b[0m\u001b[1;33m)\u001b[0m\u001b[1;33m\u001b[0m\u001b[1;33m\u001b[0m\u001b[0m\n\u001b[0m",
      "\u001b[1;32m<__array_function__ internals>\u001b[0m in \u001b[0;36msplit\u001b[1;34m(*args, **kwargs)\u001b[0m\n",
      "\u001b[1;32m~\\anaconda3\\lib\\site-packages\\numpy\\lib\\shape_base.py\u001b[0m in \u001b[0;36msplit\u001b[1;34m(ary, indices_or_sections, axis)\u001b[0m\n\u001b[0;32m    870\u001b[0m         \u001b[0mN\u001b[0m \u001b[1;33m=\u001b[0m \u001b[0mary\u001b[0m\u001b[1;33m.\u001b[0m\u001b[0mshape\u001b[0m\u001b[1;33m[\u001b[0m\u001b[0maxis\u001b[0m\u001b[1;33m]\u001b[0m\u001b[1;33m\u001b[0m\u001b[1;33m\u001b[0m\u001b[0m\n\u001b[0;32m    871\u001b[0m         \u001b[1;32mif\u001b[0m \u001b[0mN\u001b[0m \u001b[1;33m%\u001b[0m \u001b[0msections\u001b[0m\u001b[1;33m:\u001b[0m\u001b[1;33m\u001b[0m\u001b[1;33m\u001b[0m\u001b[0m\n\u001b[1;32m--> 872\u001b[1;33m             raise ValueError(\n\u001b[0m\u001b[0;32m    873\u001b[0m                 'array split does not result in an equal division') from None\n\u001b[0;32m    874\u001b[0m     \u001b[1;32mreturn\u001b[0m \u001b[0marray_split\u001b[0m\u001b[1;33m(\u001b[0m\u001b[0mary\u001b[0m\u001b[1;33m,\u001b[0m \u001b[0mindices_or_sections\u001b[0m\u001b[1;33m,\u001b[0m \u001b[0maxis\u001b[0m\u001b[1;33m)\u001b[0m\u001b[1;33m\u001b[0m\u001b[1;33m\u001b[0m\u001b[0m\n",
      "\u001b[1;31mValueError\u001b[0m: array split does not result in an equal division"
     ]
    }
   ],
   "source": [
    "np.split(c1,5)"
   ]
  },
  {
   "cell_type": "markdown",
   "id": "6c782821",
   "metadata": {},
   "source": [
    "# Splitting based on indices."
   ]
  },
  {
   "cell_type": "code",
   "execution_count": 363,
   "id": "3080160f",
   "metadata": {},
   "outputs": [
    {
     "data": {
      "text/plain": [
       "[array([1, 2, 3, 4, 5]), array([ 6,  7,  8,  9, 10, 11, 12])]"
      ]
     },
     "execution_count": 363,
     "metadata": {},
     "output_type": "execute_result"
    }
   ],
   "source": [
    "np.split(c1,[5]) # Here \"5\" is the index."
   ]
  },
  {
   "cell_type": "code",
   "execution_count": 364,
   "id": "a26a63c9",
   "metadata": {},
   "outputs": [
    {
     "data": {
      "text/plain": [
       "[array([1, 2, 3, 4, 5]), array([6, 7]), array([ 8,  9, 10, 11, 12])]"
      ]
     },
     "execution_count": 364,
     "metadata": {},
     "output_type": "execute_result"
    }
   ],
   "source": [
    "np.split(c1,[5,7])"
   ]
  },
  {
   "cell_type": "code",
   "execution_count": 365,
   "id": "6d6807ae",
   "metadata": {},
   "outputs": [
    {
     "data": {
      "text/plain": [
       "[array([1, 2, 3, 4, 5]), array([6]), array([ 7,  8,  9, 10, 11, 12])]"
      ]
     },
     "execution_count": 365,
     "metadata": {},
     "output_type": "execute_result"
    }
   ],
   "source": [
    "np.split(c1,[5,6])"
   ]
  },
  {
   "cell_type": "code",
   "execution_count": 366,
   "id": "c7cde060",
   "metadata": {},
   "outputs": [
    {
     "data": {
      "text/plain": [
       "[array([1, 2, 3, 4, 5]), array([6, 7]), array([ 8,  9, 10]), array([11, 12])]"
      ]
     },
     "execution_count": 366,
     "metadata": {},
     "output_type": "execute_result"
    }
   ],
   "source": [
    "np.split(c1 , [5,7,10])"
   ]
  },
  {
   "cell_type": "code",
   "execution_count": 367,
   "id": "7a496e11",
   "metadata": {},
   "outputs": [
    {
     "data": {
      "text/plain": [
       "[array([], dtype=int32),\n",
       " array([1, 2, 3, 4, 5]),\n",
       " array([ 6,  7,  8,  9, 10, 11, 12]),\n",
       " array([], dtype=int32)]"
      ]
     },
     "execution_count": 367,
     "metadata": {},
     "output_type": "execute_result"
    }
   ],
   "source": [
    "np.split(c1 , [0,5,12])"
   ]
  },
  {
   "cell_type": "code",
   "execution_count": 368,
   "id": "48e234c8",
   "metadata": {},
   "outputs": [
    {
     "data": {
      "text/plain": [
       "[array([1, 2]),\n",
       " array([ 3,  4,  5,  6,  7,  8,  9, 10]),\n",
       " array([], dtype=int32),\n",
       " array([ 7,  8,  9, 10, 11, 12])]"
      ]
     },
     "execution_count": 368,
     "metadata": {},
     "output_type": "execute_result"
    }
   ],
   "source": [
    "np.split(c1 , [2,10,6])"
   ]
  },
  {
   "cell_type": "code",
   "execution_count": 369,
   "id": "4aa3ac35",
   "metadata": {},
   "outputs": [
    {
     "data": {
      "text/plain": [
       "[array([1, 2, 3, 4, 5, 6, 7]), array([8, 9]), array([10, 11, 12])]"
      ]
     },
     "execution_count": 369,
     "metadata": {},
     "output_type": "execute_result"
    }
   ],
   "source": [
    "np.split(c1 , [-5,-3])"
   ]
  },
  {
   "cell_type": "code",
   "execution_count": 370,
   "id": "96624008",
   "metadata": {},
   "outputs": [
    {
     "data": {
      "text/plain": [
       "[array([1, 2, 3, 4, 5, 6, 7]),\n",
       " array([], dtype=int32),\n",
       " array([ 4,  5,  6,  7,  8,  9, 10, 11, 12])]"
      ]
     },
     "execution_count": 370,
     "metadata": {},
     "output_type": "execute_result"
    }
   ],
   "source": [
    "np.split(c1 , [-5,-9])"
   ]
  },
  {
   "cell_type": "markdown",
   "id": "cd808ec5",
   "metadata": {},
   "source": [
    "# Splitting 2D arrays"
   ]
  },
  {
   "cell_type": "code",
   "execution_count": 371,
   "id": "88aab174",
   "metadata": {},
   "outputs": [],
   "source": [
    "c1 = np.arange(1,13).reshape(4,3)"
   ]
  },
  {
   "cell_type": "code",
   "execution_count": 372,
   "id": "f3fb6262",
   "metadata": {},
   "outputs": [
    {
     "data": {
      "text/plain": [
       "array([[ 1,  2,  3],\n",
       "       [ 4,  5,  6],\n",
       "       [ 7,  8,  9],\n",
       "       [10, 11, 12]])"
      ]
     },
     "execution_count": 372,
     "metadata": {},
     "output_type": "execute_result"
    }
   ],
   "source": [
    "c1"
   ]
  },
  {
   "cell_type": "code",
   "execution_count": 373,
   "id": "21f51ae0",
   "metadata": {},
   "outputs": [
    {
     "data": {
      "text/plain": [
       "[array([[1, 2, 3]]),\n",
       " array([[4, 5, 6]]),\n",
       " array([[7, 8, 9]]),\n",
       " array([[10, 11, 12]])]"
      ]
     },
     "execution_count": 373,
     "metadata": {},
     "output_type": "execute_result"
    }
   ],
   "source": [
    "np.split(c1,4,axis=0)"
   ]
  },
  {
   "cell_type": "code",
   "execution_count": 374,
   "id": "0500b86c",
   "metadata": {},
   "outputs": [
    {
     "data": {
      "text/plain": [
       "[array([[ 1],\n",
       "        [ 4],\n",
       "        [ 7],\n",
       "        [10]]),\n",
       " array([[ 2],\n",
       "        [ 5],\n",
       "        [ 8],\n",
       "        [11]]),\n",
       " array([[ 3],\n",
       "        [ 6],\n",
       "        [ 9],\n",
       "        [12]])]"
      ]
     },
     "execution_count": 374,
     "metadata": {},
     "output_type": "execute_result"
    }
   ],
   "source": [
    "np.split(c1,3,axis = 1)"
   ]
  },
  {
   "cell_type": "markdown",
   "id": "718fe36c",
   "metadata": {},
   "source": [
    "# Split the array in to two equal parts vertically."
   ]
  },
  {
   "cell_type": "code",
   "execution_count": 375,
   "id": "101fddfb",
   "metadata": {},
   "outputs": [
    {
     "data": {
      "text/plain": [
       "[array([[1, 2, 3],\n",
       "        [4, 5, 6]]),\n",
       " array([[ 7,  8,  9],\n",
       "        [10, 11, 12]])]"
      ]
     },
     "execution_count": 375,
     "metadata": {},
     "output_type": "execute_result"
    }
   ],
   "source": [
    "np.split(c1,2,axis=0)"
   ]
  },
  {
   "cell_type": "code",
   "execution_count": 376,
   "id": "ae74d50f",
   "metadata": {},
   "outputs": [],
   "source": [
    "# Split the array in to three horizontal parts equally."
   ]
  },
  {
   "cell_type": "code",
   "execution_count": 377,
   "id": "7c06f394",
   "metadata": {},
   "outputs": [
    {
     "data": {
      "text/plain": [
       "[array([[ 1],\n",
       "        [ 4],\n",
       "        [ 7],\n",
       "        [10]]),\n",
       " array([[ 2],\n",
       "        [ 5],\n",
       "        [ 8],\n",
       "        [11]]),\n",
       " array([[ 3],\n",
       "        [ 6],\n",
       "        [ 9],\n",
       "        [12]])]"
      ]
     },
     "execution_count": 377,
     "metadata": {},
     "output_type": "execute_result"
    }
   ],
   "source": [
    "np.split(c1,3,axis= 1)"
   ]
  },
  {
   "cell_type": "code",
   "execution_count": 378,
   "id": "888bf377",
   "metadata": {},
   "outputs": [
    {
     "data": {
      "text/plain": [
       "array([[ 1,  2,  3],\n",
       "       [ 4,  5,  6],\n",
       "       [ 7,  8,  9],\n",
       "       [10, 11, 12]])"
      ]
     },
     "execution_count": 378,
     "metadata": {},
     "output_type": "execute_result"
    }
   ],
   "source": [
    "c1"
   ]
  },
  {
   "cell_type": "markdown",
   "id": "893870cd",
   "metadata": {},
   "source": [
    "# Using hsplit (Using horizontal split)"
   ]
  },
  {
   "cell_type": "code",
   "execution_count": 379,
   "id": "29811926",
   "metadata": {},
   "outputs": [
    {
     "data": {
      "text/plain": [
       "[array([[ 1],\n",
       "        [ 4],\n",
       "        [ 7],\n",
       "        [10]]),\n",
       " array([[ 2],\n",
       "        [ 5],\n",
       "        [ 8],\n",
       "        [11]]),\n",
       " array([[ 3],\n",
       "        [ 6],\n",
       "        [ 9],\n",
       "        [12]])]"
      ]
     },
     "execution_count": 379,
     "metadata": {},
     "output_type": "execute_result"
    }
   ],
   "source": [
    "np.hsplit(c1,3)"
   ]
  },
  {
   "cell_type": "markdown",
   "id": "d3ecc61b",
   "metadata": {},
   "source": [
    "# Using vsplit (Vertical split)"
   ]
  },
  {
   "cell_type": "code",
   "execution_count": 380,
   "id": "d071a5e1",
   "metadata": {},
   "outputs": [
    {
     "data": {
      "text/plain": [
       "[array([[1, 2, 3],\n",
       "        [4, 5, 6]]),\n",
       " array([[ 7,  8,  9],\n",
       "        [10, 11, 12]])]"
      ]
     },
     "execution_count": 380,
     "metadata": {},
     "output_type": "execute_result"
    }
   ],
   "source": [
    "np.vsplit(c1,2)"
   ]
  },
  {
   "cell_type": "markdown",
   "id": "5ea67a95",
   "metadata": {},
   "source": [
    "# Splitting with indices  "
   ]
  },
  {
   "cell_type": "code",
   "execution_count": 381,
   "id": "8d0f082f",
   "metadata": {},
   "outputs": [
    {
     "data": {
      "text/plain": [
       "array([[ 1,  2,  3],\n",
       "       [ 4,  5,  6],\n",
       "       [ 7,  8,  9],\n",
       "       [10, 11, 12]])"
      ]
     },
     "execution_count": 381,
     "metadata": {},
     "output_type": "execute_result"
    }
   ],
   "source": [
    "c1"
   ]
  },
  {
   "cell_type": "code",
   "execution_count": 382,
   "id": "37f62c80",
   "metadata": {},
   "outputs": [
    {
     "data": {
      "text/plain": [
       "[array([[1, 2, 3]]),\n",
       " array([[ 4,  5,  6],\n",
       "        [ 7,  8,  9],\n",
       "        [10, 11, 12]])]"
      ]
     },
     "execution_count": 382,
     "metadata": {},
     "output_type": "execute_result"
    }
   ],
   "source": [
    "np.split(c1, [1] , axis = 0)"
   ]
  },
  {
   "cell_type": "markdown",
   "id": "4ffd4c12",
   "metadata": {},
   "source": [
    "# Split the first two rows and the last two rows of c1"
   ]
  },
  {
   "cell_type": "code",
   "execution_count": 383,
   "id": "88b4d486",
   "metadata": {},
   "outputs": [
    {
     "data": {
      "text/plain": [
       "[array([], shape=(0, 3), dtype=int32),\n",
       " array([[1, 2, 3],\n",
       "        [4, 5, 6]]),\n",
       " array([[ 7,  8,  9],\n",
       "        [10, 11, 12]])]"
      ]
     },
     "execution_count": 383,
     "metadata": {},
     "output_type": "execute_result"
    }
   ],
   "source": [
    "np.split(c1 , [0,2] , axis = 0)"
   ]
  },
  {
   "cell_type": "markdown",
   "id": "e5a5cb6d",
   "metadata": {},
   "source": [
    "# Split the first three rows and last row of c1."
   ]
  },
  {
   "cell_type": "code",
   "execution_count": 384,
   "id": "80041212",
   "metadata": {},
   "outputs": [
    {
     "data": {
      "text/plain": [
       "array([[ 1,  2,  3],\n",
       "       [ 4,  5,  6],\n",
       "       [ 7,  8,  9],\n",
       "       [10, 11, 12]])"
      ]
     },
     "execution_count": 384,
     "metadata": {},
     "output_type": "execute_result"
    }
   ],
   "source": [
    "c1"
   ]
  },
  {
   "cell_type": "code",
   "execution_count": 385,
   "id": "51646305",
   "metadata": {},
   "outputs": [
    {
     "data": {
      "text/plain": [
       "[array([], shape=(0, 3), dtype=int32),\n",
       " array([[1, 2, 3],\n",
       "        [4, 5, 6],\n",
       "        [7, 8, 9]]),\n",
       " array([[10, 11, 12]])]"
      ]
     },
     "execution_count": 385,
     "metadata": {},
     "output_type": "execute_result"
    }
   ],
   "source": [
    "np.split(c1 , [0,3] , axis = 0)"
   ]
  },
  {
   "cell_type": "markdown",
   "id": "cccb2332",
   "metadata": {},
   "source": [
    "# Split the first two columns and last column."
   ]
  },
  {
   "cell_type": "code",
   "execution_count": 386,
   "id": "2901d38b",
   "metadata": {},
   "outputs": [
    {
     "data": {
      "text/plain": [
       "[array([], shape=(4, 0), dtype=int32),\n",
       " array([[ 1,  2],\n",
       "        [ 4,  5],\n",
       "        [ 7,  8],\n",
       "        [10, 11]]),\n",
       " array([[ 3],\n",
       "        [ 6],\n",
       "        [ 9],\n",
       "        [12]])]"
      ]
     },
     "execution_count": 386,
     "metadata": {},
     "output_type": "execute_result"
    }
   ],
   "source": [
    "np.split(c1 , [0,2] , axis = 1)"
   ]
  },
  {
   "cell_type": "markdown",
   "id": "df2474a0",
   "metadata": {},
   "source": [
    "# Split the first column and the last two columns "
   ]
  },
  {
   "cell_type": "code",
   "execution_count": 387,
   "id": "a642bc5e",
   "metadata": {},
   "outputs": [
    {
     "data": {
      "text/plain": [
       "[array([], shape=(4, 0), dtype=int32),\n",
       " array([[ 1],\n",
       "        [ 4],\n",
       "        [ 7],\n",
       "        [10]]),\n",
       " array([[ 2,  3],\n",
       "        [ 5,  6],\n",
       "        [ 8,  9],\n",
       "        [11, 12]])]"
      ]
     },
     "execution_count": 387,
     "metadata": {},
     "output_type": "execute_result"
    }
   ],
   "source": [
    "np.split(c1 , [0,1] , axis = 1)"
   ]
  },
  {
   "cell_type": "markdown",
   "id": "6b28d641",
   "metadata": {},
   "source": [
    "# Instead of giving the axis, hsplit and vsplit can be used."
   ]
  },
  {
   "cell_type": "code",
   "execution_count": 388,
   "id": "d093fea2",
   "metadata": {},
   "outputs": [
    {
     "data": {
      "text/plain": [
       "array([[ 1,  2,  3],\n",
       "       [ 4,  5,  6],\n",
       "       [ 7,  8,  9],\n",
       "       [10, 11, 12]])"
      ]
     },
     "execution_count": 388,
     "metadata": {},
     "output_type": "execute_result"
    }
   ],
   "source": [
    "c1"
   ]
  },
  {
   "cell_type": "markdown",
   "id": "9bfe31c8",
   "metadata": {},
   "source": [
    "# Split the first two columns and last column of c1 using hsplit."
   ]
  },
  {
   "cell_type": "code",
   "execution_count": 389,
   "id": "658ffa31",
   "metadata": {},
   "outputs": [
    {
     "data": {
      "text/plain": [
       "[array([], shape=(4, 0), dtype=int32),\n",
       " array([[ 1,  2],\n",
       "        [ 4,  5],\n",
       "        [ 7,  8],\n",
       "        [10, 11]]),\n",
       " array([[ 3],\n",
       "        [ 6],\n",
       "        [ 9],\n",
       "        [12]])]"
      ]
     },
     "execution_count": 389,
     "metadata": {},
     "output_type": "execute_result"
    }
   ],
   "source": [
    "np.hsplit(c1 , [0,2])"
   ]
  },
  {
   "cell_type": "markdown",
   "id": "9fa317c0",
   "metadata": {},
   "source": [
    "# Split the first column and next two columns of c1 using hsplit."
   ]
  },
  {
   "cell_type": "code",
   "execution_count": 390,
   "id": "2a5342af",
   "metadata": {},
   "outputs": [
    {
     "data": {
      "text/plain": [
       "[array([], shape=(4, 0), dtype=int32),\n",
       " array([[ 1],\n",
       "        [ 4],\n",
       "        [ 7],\n",
       "        [10]]),\n",
       " array([[ 2,  3],\n",
       "        [ 5,  6],\n",
       "        [ 8,  9],\n",
       "        [11, 12]])]"
      ]
     },
     "execution_count": 390,
     "metadata": {},
     "output_type": "execute_result"
    }
   ],
   "source": [
    "np.hsplit(c1 , [0,1])"
   ]
  },
  {
   "cell_type": "markdown",
   "id": "10724102",
   "metadata": {},
   "source": [
    "# Split the three columns of c1 equally using hsplit."
   ]
  },
  {
   "cell_type": "code",
   "execution_count": 391,
   "id": "f49e14d4",
   "metadata": {},
   "outputs": [
    {
     "data": {
      "text/plain": [
       "[array([], shape=(4, 0), dtype=int32),\n",
       " array([[ 1],\n",
       "        [ 4],\n",
       "        [ 7],\n",
       "        [10]]),\n",
       " array([[ 2],\n",
       "        [ 5],\n",
       "        [ 8],\n",
       "        [11]]),\n",
       " array([[ 3],\n",
       "        [ 6],\n",
       "        [ 9],\n",
       "        [12]])]"
      ]
     },
     "execution_count": 391,
     "metadata": {},
     "output_type": "execute_result"
    }
   ],
   "source": [
    "np.hsplit(c1,[0,1,2])"
   ]
  },
  {
   "cell_type": "markdown",
   "id": "e91872a2",
   "metadata": {},
   "source": [
    "# Split the first row and next three rows of c1 using vsplit."
   ]
  },
  {
   "cell_type": "code",
   "execution_count": 392,
   "id": "eed2f536",
   "metadata": {},
   "outputs": [
    {
     "data": {
      "text/plain": [
       "array([[ 1,  2,  3],\n",
       "       [ 4,  5,  6],\n",
       "       [ 7,  8,  9],\n",
       "       [10, 11, 12]])"
      ]
     },
     "execution_count": 392,
     "metadata": {},
     "output_type": "execute_result"
    }
   ],
   "source": [
    "c1"
   ]
  },
  {
   "cell_type": "code",
   "execution_count": 393,
   "id": "de9cd55d",
   "metadata": {},
   "outputs": [
    {
     "data": {
      "text/plain": [
       "[array([], shape=(0, 3), dtype=int32),\n",
       " array([[1, 2, 3]]),\n",
       " array([[ 4,  5,  6],\n",
       "        [ 7,  8,  9],\n",
       "        [10, 11, 12]])]"
      ]
     },
     "execution_count": 393,
     "metadata": {},
     "output_type": "execute_result"
    }
   ],
   "source": [
    "np.vsplit(c1 , [0,1])"
   ]
  },
  {
   "cell_type": "markdown",
   "id": "bb93e0e2",
   "metadata": {},
   "source": [
    "# Split the first two rows and next two rows of c1 equally."
   ]
  },
  {
   "cell_type": "code",
   "execution_count": 394,
   "id": "b23c4068",
   "metadata": {},
   "outputs": [
    {
     "data": {
      "text/plain": [
       "[array([], shape=(0, 3), dtype=int32),\n",
       " array([[1, 2, 3],\n",
       "        [4, 5, 6]]),\n",
       " array([[ 7,  8,  9],\n",
       "        [10, 11, 12]])]"
      ]
     },
     "execution_count": 394,
     "metadata": {},
     "output_type": "execute_result"
    }
   ],
   "source": [
    "np.vsplit(c1 , [0,2])"
   ]
  },
  {
   "cell_type": "markdown",
   "id": "833cb4bf",
   "metadata": {},
   "source": [
    "# Split each row of the c1 array equally."
   ]
  },
  {
   "cell_type": "code",
   "execution_count": 395,
   "id": "ce4aa818",
   "metadata": {},
   "outputs": [
    {
     "data": {
      "text/plain": [
       "[array([], shape=(0, 3), dtype=int32),\n",
       " array([[1, 2, 3]]),\n",
       " array([[4, 5, 6]]),\n",
       " array([[7, 8, 9]]),\n",
       " array([[10, 11, 12]])]"
      ]
     },
     "execution_count": 395,
     "metadata": {},
     "output_type": "execute_result"
    }
   ],
   "source": [
    "np.split(c1 , [0,1,2,3])"
   ]
  },
  {
   "cell_type": "markdown",
   "id": "cc914ded",
   "metadata": {},
   "source": [
    "# Broadcasting."
   ]
  },
  {
   "cell_type": "code",
   "execution_count": 397,
   "id": "dce8de77",
   "metadata": {},
   "outputs": [
    {
     "data": {
      "text/plain": [
       "array([3, 4, 5, 6])"
      ]
     },
     "execution_count": 397,
     "metadata": {},
     "output_type": "execute_result"
    }
   ],
   "source": [
    "A = np.arange(1,5)\n",
    "A+2"
   ]
  },
  {
   "cell_type": "code",
   "execution_count": 404,
   "id": "57bf50b8",
   "metadata": {},
   "outputs": [
    {
     "name": "stdout",
     "output_type": "stream",
     "text": [
      "[[1 2]\n",
      " [3 4]\n",
      " [5 6]]\n",
      "(3, 2)\n",
      "2\n",
      "[1 2]\n",
      "(2,)\n",
      "1\n"
     ]
    }
   ],
   "source": [
    "B = np.arange(1,7).reshape(3,2)\n",
    "print(B)\n",
    "print(B.shape)\n",
    "print(B.ndim)\n",
    "C = np.arange(1,3)\n",
    "print(C)\n",
    "print(C.shape)\n",
    "print(C.ndim)"
   ]
  },
  {
   "cell_type": "code",
   "execution_count": 405,
   "id": "3549b632",
   "metadata": {},
   "outputs": [
    {
     "data": {
      "text/plain": [
       "array([[2, 4],\n",
       "       [4, 6],\n",
       "       [6, 8]])"
      ]
     },
     "execution_count": 405,
     "metadata": {},
     "output_type": "execute_result"
    }
   ],
   "source": [
    "B+C"
   ]
  },
  {
   "cell_type": "code",
   "execution_count": 408,
   "id": "f5ee08ae",
   "metadata": {},
   "outputs": [
    {
     "data": {
      "text/plain": [
       "array([1, 2, 3])"
      ]
     },
     "execution_count": 408,
     "metadata": {},
     "output_type": "execute_result"
    }
   ],
   "source": [
    "D =np.arange(1,4)\n",
    "D"
   ]
  },
  {
   "cell_type": "code",
   "execution_count": 409,
   "id": "a2b6d706",
   "metadata": {},
   "outputs": [
    {
     "ename": "ValueError",
     "evalue": "operands could not be broadcast together with shapes (3,2) (3,) ",
     "output_type": "error",
     "traceback": [
      "\u001b[1;31m---------------------------------------------------------------------------\u001b[0m",
      "\u001b[1;31mValueError\u001b[0m                                Traceback (most recent call last)",
      "\u001b[1;32m~\\AppData\\Local\\Temp/ipykernel_27724/2766785134.py\u001b[0m in \u001b[0;36m<module>\u001b[1;34m\u001b[0m\n\u001b[1;32m----> 1\u001b[1;33m \u001b[0mB\u001b[0m \u001b[1;33m+\u001b[0m \u001b[0mD\u001b[0m\u001b[1;33m\u001b[0m\u001b[1;33m\u001b[0m\u001b[0m\n\u001b[0m",
      "\u001b[1;31mValueError\u001b[0m: operands could not be broadcast together with shapes (3,2) (3,) "
     ]
    }
   ],
   "source": [
    "B + D"
   ]
  },
  {
   "cell_type": "code",
   "execution_count": 411,
   "id": "205ae778",
   "metadata": {},
   "outputs": [
    {
     "name": "stdout",
     "output_type": "stream",
     "text": [
      "[[1 2]\n",
      " [3 4]\n",
      " [5 6]]\n",
      "(3, 2)\n",
      "2\n"
     ]
    }
   ],
   "source": [
    "A = np.arange(1,7).reshape(3,2)\n",
    "print(A)\n",
    "print(A.shape)\n",
    "print(A.ndim)"
   ]
  },
  {
   "cell_type": "code",
   "execution_count": 417,
   "id": "f8fffbd9",
   "metadata": {},
   "outputs": [
    {
     "name": "stdout",
     "output_type": "stream",
     "text": [
      "[[10 20]\n",
      " [30 40]]\n",
      "(2, 2)\n",
      "2\n"
     ]
    }
   ],
   "source": [
    "B = np.array([10,20,30,40]).reshape(2,2)\n",
    "print(B)\n",
    "print(B.shape)\n",
    "print(B.ndim)"
   ]
  },
  {
   "cell_type": "code",
   "execution_count": 418,
   "id": "2d932e69",
   "metadata": {},
   "outputs": [
    {
     "ename": "ValueError",
     "evalue": "operands could not be broadcast together with shapes (3,2) (2,2) ",
     "output_type": "error",
     "traceback": [
      "\u001b[1;31m---------------------------------------------------------------------------\u001b[0m",
      "\u001b[1;31mValueError\u001b[0m                                Traceback (most recent call last)",
      "\u001b[1;32m~\\AppData\\Local\\Temp/ipykernel_27724/3267467007.py\u001b[0m in \u001b[0;36m<module>\u001b[1;34m\u001b[0m\n\u001b[1;32m----> 1\u001b[1;33m \u001b[0mA\u001b[0m\u001b[1;33m+\u001b[0m\u001b[0mB\u001b[0m\u001b[1;33m\u001b[0m\u001b[1;33m\u001b[0m\u001b[0m\n\u001b[0m",
      "\u001b[1;31mValueError\u001b[0m: operands could not be broadcast together with shapes (3,2) (2,2) "
     ]
    }
   ],
   "source": [
    "A+B"
   ]
  },
  {
   "cell_type": "code",
   "execution_count": 419,
   "id": "1f23b87b",
   "metadata": {},
   "outputs": [
    {
     "name": "stdout",
     "output_type": "stream",
     "text": [
      "[[1 2 3]]\n",
      "(1, 3)\n",
      "2\n"
     ]
    }
   ],
   "source": [
    "A = np.array([[1,2,3]])\n",
    "print(A)\n",
    "print(A.shape)\n",
    "print(A.ndim)"
   ]
  },
  {
   "cell_type": "code",
   "execution_count": 420,
   "id": "0d273125",
   "metadata": {},
   "outputs": [
    {
     "name": "stdout",
     "output_type": "stream",
     "text": [
      "[[10]\n",
      " [20]\n",
      " [30]]\n",
      "(3, 1)\n",
      "2\n"
     ]
    }
   ],
   "source": [
    "B = np.array([[10],[20],[30]])\n",
    "print(B)\n",
    "print(B.shape)\n",
    "print(B.ndim)"
   ]
  },
  {
   "cell_type": "code",
   "execution_count": 422,
   "id": "4f100fa2",
   "metadata": {},
   "outputs": [
    {
     "data": {
      "text/plain": [
       "array([[11, 12, 13],\n",
       "       [21, 22, 23],\n",
       "       [31, 32, 33]])"
      ]
     },
     "execution_count": 422,
     "metadata": {},
     "output_type": "execute_result"
    }
   ],
   "source": [
    "A + B"
   ]
  },
  {
   "cell_type": "code",
   "execution_count": 425,
   "id": "fab376db",
   "metadata": {},
   "outputs": [
    {
     "name": "stdout",
     "output_type": "stream",
     "text": [
      "[[1 2 3 4]]\n",
      "(1, 4)\n",
      "2\n"
     ]
    }
   ],
   "source": [
    "A = np.arange(1,5).reshape(1,4)\n",
    "print(A)\n",
    "print(A.shape)\n",
    "print(A.ndim)"
   ]
  },
  {
   "cell_type": "code",
   "execution_count": 426,
   "id": "3ac52e08",
   "metadata": {},
   "outputs": [
    {
     "name": "stdout",
     "output_type": "stream",
     "text": [
      "[[1]\n",
      " [2]\n",
      " [3]\n",
      " [4]\n",
      " [5]]\n",
      "(5, 1)\n",
      "2\n"
     ]
    }
   ],
   "source": [
    "B = np.arange(1,6).reshape(5,1)\n",
    "print(B)\n",
    "print(B.shape)\n",
    "print(B.ndim)"
   ]
  },
  {
   "cell_type": "code",
   "execution_count": 427,
   "id": "24a327b3",
   "metadata": {},
   "outputs": [
    {
     "data": {
      "text/plain": [
       "array([[2, 3, 4, 5],\n",
       "       [3, 4, 5, 6],\n",
       "       [4, 5, 6, 7],\n",
       "       [5, 6, 7, 8],\n",
       "       [6, 7, 8, 9]])"
      ]
     },
     "execution_count": 427,
     "metadata": {},
     "output_type": "execute_result"
    }
   ],
   "source": [
    "A + B"
   ]
  },
  {
   "cell_type": "code",
   "execution_count": null,
   "id": "314f28aa",
   "metadata": {},
   "outputs": [],
   "source": []
  },
  {
   "cell_type": "code",
   "execution_count": null,
   "id": "e39f72d3",
   "metadata": {},
   "outputs": [],
   "source": []
  },
  {
   "cell_type": "code",
   "execution_count": null,
   "id": "a657e868",
   "metadata": {},
   "outputs": [],
   "source": []
  },
  {
   "cell_type": "code",
   "execution_count": null,
   "id": "a815f47e",
   "metadata": {},
   "outputs": [],
   "source": []
  },
  {
   "cell_type": "code",
   "execution_count": null,
   "id": "899a253e",
   "metadata": {},
   "outputs": [],
   "source": []
  }
 ],
 "metadata": {
  "kernelspec": {
   "display_name": "Python 3 (ipykernel)",
   "language": "python",
   "name": "python3"
  },
  "language_info": {
   "codemirror_mode": {
    "name": "ipython",
    "version": 3
   },
   "file_extension": ".py",
   "mimetype": "text/x-python",
   "name": "python",
   "nbconvert_exporter": "python",
   "pygments_lexer": "ipython3",
   "version": "3.9.7"
  }
 },
 "nbformat": 4,
 "nbformat_minor": 5
}
